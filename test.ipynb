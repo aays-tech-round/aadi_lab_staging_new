{
 "cells": [
  {
   "cell_type": "code",
   "execution_count": 2,
   "metadata": {},
   "outputs": [
    {
     "name": "stdout",
     "output_type": "stream",
     "text": [
      "{}\n"
     ]
    }
   ],
   "source": [
    "data = {\n",
    "    'aflatoxin': 'Aflatoxins M1,Aflatoxins (by HPLC),Aflatoxins (Profile by LCMSMS),Aflatoxins on nuts (by HPLC),Aflatoxins (by HPLC)-ISO17025,Aflatoxins (Profile by LCMSMS)-ISO17025,Arsenic',\n",
    "    'zearalenone': 'Zearalenon (by HPLC),Zearalenon (by HPLC)-ISO17025,Zearalenon (Profile by LCMSMS),Zearalenon (Profile by LCMSMS)-ISO17025,Zinc',\n",
    "    'don': 'DON (Profile by LCMSMS),DON (by HPLC),DON (by HPLC)-(12Moist),DON (Profile by LCMSMS)-ISO17025,DON (by HPLC)-ISO17025,DATEM',\n",
    "    'ochratoxin': '',\n",
    "    't2/ht2': 'Toxins T2-HT2 (by LC-MS/MS),Toxins T2-HT2 (Profile by LCMSMS),Toxins T2-HT2 (by LC-MS/MS)-ISO17025,Toxins T2-HT2 (By LCMSMS)-ISO17025,TMA,Taurin (Total)',\n",
    "    'fumo': 'FOS,Fumonisins (by HPLC)'\n",
    "}\n",
    "\n",
    "search_term = \"aflatoxins by hplc\".lower()  # Normalize search term for case-insensitive search\n",
    "\n",
    "# Find matching values\n",
    "matching_values = {\n",
    "    key: value for key, value in data.items() if any(search_term in v.lower() for v in value.split(','))\n",
    "}\n",
    "\n",
    "print(matching_values)"
   ]
  },
  {
   "cell_type": "code",
   "execution_count": 4,
   "metadata": {},
   "outputs": [
    {
     "name": "stdout",
     "output_type": "stream",
     "text": [
      "{'aflatoxin': 'Aflatoxins M1,Aflatoxins (by HPLC),Aflatoxins (Profile by LCMSMS),Aflatoxins on nuts (by HPLC),Aflatoxins (by HPLC)-ISO17025,Aflatoxins (Profile by LCMSMS)-ISO17025,Arsenic'}\n"
     ]
    }
   ],
   "source": [
    "data = {\n",
    "    'aflatoxin': 'Aflatoxins M1,Aflatoxins (by HPLC),Aflatoxins (Profile by LCMSMS),Aflatoxins on nuts (by HPLC),Aflatoxins (by HPLC)-ISO17025,Aflatoxins (Profile by LCMSMS)-ISO17025,Arsenic',\n",
    "    'zearalenone': 'Zearalenon (by HPLC),Zearalenon (by HPLC)-ISO17025,Zearalenon (Profile by LCMSMS),Zearalenon (Profile by LCMSMS)-ISO17025,Zinc',\n",
    "    'don': 'DON (Profile by LCMSMS),DON (by HPLC),DON (by HPLC)-(12Moist),DON (Profile by LCMSMS)-ISO17025,DON (by HPLC)-ISO17025,DATEM',\n",
    "    'ochratoxin': '',\n",
    "    't2/ht2': 'Toxins T2-HT2 (by LC-MS/MS),Toxins T2-HT2 (Profile by LCMSMS),Toxins T2-HT2 (by LC-MS/MS)-ISO17025,Toxins T2-HT2 (By LCMSMS)-ISO17025,TMA,Taurin (Total)',\n",
    "    'fumo': 'FOS,Fumonisins (by HPLC)'\n",
    "}\n",
    "\n",
    "search_term = \"aflatoxins by HPLC\".lower()  # Convert search term to lowercase\n",
    "\n",
    "# Find matches using case-insensitive substring search\n",
    "matching_values = {}\n",
    "\n",
    "for key, value in data.items():\n",
    "    values_list = value.split(',')  # Split multiple values\n",
    "    for v in values_list:\n",
    "        cleaned_v = v.lower().replace(\"(\", \"\").replace(\")\", \"\")  # Remove brackets\n",
    "        if search_term in cleaned_v:  # Case-insensitive search\n",
    "            matching_values[key] = value\n",
    "            break  # Stop searching once we find a match in this category\n",
    "\n",
    "print(matching_values)\n"
   ]
  },
  {
   "cell_type": "code",
   "execution_count": null,
   "metadata": {},
   "outputs": [],
   "source": []
  }
 ],
 "metadata": {
  "kernelspec": {
   "display_name": "Python 3",
   "language": "python",
   "name": "python3"
  },
  "language_info": {
   "codemirror_mode": {
    "name": "ipython",
    "version": 3
   },
   "file_extension": ".py",
   "mimetype": "text/x-python",
   "name": "python",
   "nbconvert_exporter": "python",
   "pygments_lexer": "ipython3",
   "version": "3.12.9"
  }
 },
 "nbformat": 4,
 "nbformat_minor": 2
}
